{
 "cells": [
  {
   "cell_type": "code",
   "execution_count": 1,
   "metadata": {},
   "outputs": [
    {
     "name": "stdout",
     "output_type": "stream",
     "text": [
      "ij\n"
     ]
    }
   ],
   "source": [
    "from selenium import webdriver\n",
    "from selenium.webdriver.common.keys import Keys\n",
    "from selenium.webdriver.support.ui import WebDriverWait\n",
    "from selenium.webdriver.remote.webelement import WebElement\n",
    "from selenium.webdriver.common.by import By\n",
    "from selenium.webdriver.support import expected_conditions as EC\n",
    "driver=webdriver.Chrome()\n",
    "driver.get(\"https://web.whatsapp.com/\")\n",
    "import webbrowser\n",
    "contact=(#Put the contact name here)\n",
    "user=input()\n",
    "msg='Write the message'\n",
    "user= driver.find_element_by_xpath(\"//span[@title='{}']\".format(contact))\n",
    "user.click()\n",
    "counting=1\n",
    "element =WebDriverWait(driver, 10).until(EC.presence_of_element_located((By.ID,'main')))\n",
    "msg_box=driver.find_element_by_xpath(\"//*[@id='main']/footer/div[1]/div[2]/div/div[2]\")\n",
    "for index in range(counting):\n",
    "    msg_box=driver.find_element_by_xpath(\"//*[@id='main']/footer/div[1]/div[2]/div/div[2]\")\n",
    "    msg_box.send_keys(msg)\n",
    "    driver.find_element_by_xpath(\"//*[@id='main']/footer/div[1]/div[3]/button\").click()"
   ]
  },
  {
   "cell_type": "code",
   "execution_count": null,
   "metadata": {},
   "outputs": [],
   "source": [
    "WebDriverWait(driver, 20).until(EC.element_to_be_clickable((By.CSS_SELECTOR, \".reply-button\"))).click()\n",
    " element = WebDriverWait(driver, 10).until(EC.presence_of_element_located((By.ID,'main'))"
   ]
  }
 ],
 "metadata": {
  "kernelspec": {
   "display_name": "Python 3",
   "language": "python",
   "name": "python3"
  },
  "language_info": {
   "codemirror_mode": {
    "name": "ipython",
    "version": 3
   },
   "file_extension": ".py",
   "mimetype": "text/x-python",
   "name": "python",
   "nbconvert_exporter": "python",
   "pygments_lexer": "ipython3",
   "version": "3.7.6"
  }
 },
 "nbformat": 4,
 "nbformat_minor": 4
}
